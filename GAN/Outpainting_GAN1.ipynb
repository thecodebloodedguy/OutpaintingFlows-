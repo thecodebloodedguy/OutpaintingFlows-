{
  "nbformat": 4,
  "nbformat_minor": 0,
  "metadata": {
    "colab": {
      "provenance": []
    },
    "kernelspec": {
      "name": "python3",
      "display_name": "Python 3"
    },
    "language_info": {
      "name": "python"
    }
  },
  "cells": [
    {
      "cell_type": "markdown",
      "source": [
        "# Cloning Repository and installing packages"
      ],
      "metadata": {
        "id": "7qpRzWma4LAZ"
      }
    },
    {
      "cell_type": "code",
      "source": [
        "!wget -O outpainting.py \"https://raw.githubusercontent.com/thecodebloodedguy/OutpaintingFlows-/main/GAN/outpainting.py\""
      ],
      "metadata": {
        "colab": {
          "base_uri": "https://localhost:8080/"
        },
        "id": "-QygWQxG1jV1",
        "outputId": "eb2e6017-cb70-4e32-c51d-fedf7db3bc06"
      },
      "execution_count": 3,
      "outputs": [
        {
          "output_type": "stream",
          "name": "stdout",
          "text": [
            "--2024-01-07 12:44:22--  https://raw.githubusercontent.com/thecodebloodedguy/OutpaintingFlows-/main/GAN/outpainting.py\n",
            "Resolving raw.githubusercontent.com (raw.githubusercontent.com)... 185.199.108.133, 185.199.109.133, 185.199.110.133, ...\n",
            "Connecting to raw.githubusercontent.com (raw.githubusercontent.com)|185.199.108.133|:443... connected.\n",
            "HTTP request sent, awaiting response... 200 OK\n",
            "Length: 17254 (17K) [text/plain]\n",
            "Saving to: ‘outpainting.py’\n",
            "\n",
            "outpainting.py      100%[===================>]  16.85K  --.-KB/s    in 0.001s  \n",
            "\n",
            "2024-01-07 12:44:22 (11.6 MB/s) - ‘outpainting.py’ saved [17254/17254]\n",
            "\n"
          ]
        }
      ]
    },
    {
      "cell_type": "code",
      "source": [
        "%pip install numpy scipy matplotlib opencv-python pillow torch torchvision tqdm html4vision"
      ],
      "metadata": {
        "colab": {
          "base_uri": "https://localhost:8080/"
        },
        "id": "0TUWQ3R4y4Ql",
        "outputId": "7395d946-926b-43fc-c617-f59b576b9bb3"
      },
      "execution_count": 3,
      "outputs": [
        {
          "output_type": "stream",
          "name": "stdout",
          "text": [
            "Requirement already satisfied: numpy in /usr/local/lib/python3.10/dist-packages (1.23.5)\n",
            "Requirement already satisfied: scipy in /usr/local/lib/python3.10/dist-packages (1.11.4)\n",
            "Requirement already satisfied: matplotlib in /usr/local/lib/python3.10/dist-packages (3.7.1)\n",
            "Requirement already satisfied: opencv-python in /usr/local/lib/python3.10/dist-packages (4.8.0.76)\n",
            "Requirement already satisfied: pillow in /usr/local/lib/python3.10/dist-packages (9.4.0)\n",
            "Requirement already satisfied: torch in /usr/local/lib/python3.10/dist-packages (2.1.0+cu121)\n",
            "Requirement already satisfied: torchvision in /usr/local/lib/python3.10/dist-packages (0.16.0+cu121)\n",
            "Requirement already satisfied: tqdm in /usr/local/lib/python3.10/dist-packages (4.66.1)\n",
            "Collecting html4vision\n",
            "  Downloading HTML4Vision-0.4.3-py2.py3-none-any.whl (11 kB)\n",
            "Requirement already satisfied: contourpy>=1.0.1 in /usr/local/lib/python3.10/dist-packages (from matplotlib) (1.2.0)\n",
            "Requirement already satisfied: cycler>=0.10 in /usr/local/lib/python3.10/dist-packages (from matplotlib) (0.12.1)\n",
            "Requirement already satisfied: fonttools>=4.22.0 in /usr/local/lib/python3.10/dist-packages (from matplotlib) (4.47.0)\n",
            "Requirement already satisfied: kiwisolver>=1.0.1 in /usr/local/lib/python3.10/dist-packages (from matplotlib) (1.4.5)\n",
            "Requirement already satisfied: packaging>=20.0 in /usr/local/lib/python3.10/dist-packages (from matplotlib) (23.2)\n",
            "Requirement already satisfied: pyparsing>=2.3.1 in /usr/local/lib/python3.10/dist-packages (from matplotlib) (3.1.1)\n",
            "Requirement already satisfied: python-dateutil>=2.7 in /usr/local/lib/python3.10/dist-packages (from matplotlib) (2.8.2)\n",
            "Requirement already satisfied: filelock in /usr/local/lib/python3.10/dist-packages (from torch) (3.13.1)\n",
            "Requirement already satisfied: typing-extensions in /usr/local/lib/python3.10/dist-packages (from torch) (4.5.0)\n",
            "Requirement already satisfied: sympy in /usr/local/lib/python3.10/dist-packages (from torch) (1.12)\n",
            "Requirement already satisfied: networkx in /usr/local/lib/python3.10/dist-packages (from torch) (3.2.1)\n",
            "Requirement already satisfied: jinja2 in /usr/local/lib/python3.10/dist-packages (from torch) (3.1.2)\n",
            "Requirement already satisfied: fsspec in /usr/local/lib/python3.10/dist-packages (from torch) (2023.6.0)\n",
            "Requirement already satisfied: triton==2.1.0 in /usr/local/lib/python3.10/dist-packages (from torch) (2.1.0)\n",
            "Requirement already satisfied: requests in /usr/local/lib/python3.10/dist-packages (from torchvision) (2.31.0)\n",
            "Requirement already satisfied: Flask in /usr/local/lib/python3.10/dist-packages (from html4vision) (2.2.5)\n",
            "Collecting dominate (from html4vision)\n",
            "  Downloading dominate-2.9.1-py2.py3-none-any.whl (29 kB)\n",
            "Requirement already satisfied: six>=1.5 in /usr/local/lib/python3.10/dist-packages (from python-dateutil>=2.7->matplotlib) (1.16.0)\n",
            "Requirement already satisfied: Werkzeug>=2.2.2 in /usr/local/lib/python3.10/dist-packages (from Flask->html4vision) (3.0.1)\n",
            "Requirement already satisfied: itsdangerous>=2.0 in /usr/local/lib/python3.10/dist-packages (from Flask->html4vision) (2.1.2)\n",
            "Requirement already satisfied: click>=8.0 in /usr/local/lib/python3.10/dist-packages (from Flask->html4vision) (8.1.7)\n",
            "Requirement already satisfied: MarkupSafe>=2.0 in /usr/local/lib/python3.10/dist-packages (from jinja2->torch) (2.1.3)\n",
            "Requirement already satisfied: charset-normalizer<4,>=2 in /usr/local/lib/python3.10/dist-packages (from requests->torchvision) (3.3.2)\n",
            "Requirement already satisfied: idna<4,>=2.5 in /usr/local/lib/python3.10/dist-packages (from requests->torchvision) (3.6)\n",
            "Requirement already satisfied: urllib3<3,>=1.21.1 in /usr/local/lib/python3.10/dist-packages (from requests->torchvision) (2.0.7)\n",
            "Requirement already satisfied: certifi>=2017.4.17 in /usr/local/lib/python3.10/dist-packages (from requests->torchvision) (2023.11.17)\n",
            "Requirement already satisfied: mpmath>=0.19 in /usr/local/lib/python3.10/dist-packages (from sympy->torch) (1.3.0)\n",
            "Installing collected packages: dominate, html4vision\n",
            "Successfully installed dominate-2.9.1 html4vision-0.4.3\n"
          ]
        }
      ]
    },
    {
      "cell_type": "code",
      "source": [
        "!mkdir result\n",
        "!mkdir paths\n",
        "!gdown 1Me6_zYGglb1vKkRzh6AT0CxAu4B99kGx\n",
        "!mv '/content/G_art.pt' '/content/paths'"
      ],
      "metadata": {
        "colab": {
          "base_uri": "https://localhost:8080/"
        },
        "id": "md70BlaSz2Kr",
        "outputId": "0c3f1511-14a2-4321-b567-c56610a534dc"
      },
      "execution_count": 11,
      "outputs": [
        {
          "output_type": "stream",
          "name": "stdout",
          "text": [
            "mkdir: cannot create directory ‘result’: File exists\n",
            "mkdir: cannot create directory ‘paths’: File exists\n",
            "Downloading...\n",
            "From: https://drive.google.com/uc?id=1Me6_zYGglb1vKkRzh6AT0CxAu4B99kGx\n",
            "To: /content/G_art.pt\n",
            "100% 162M/162M [00:01<00:00, 135MB/s]\n"
          ]
        }
      ]
    },
    {
      "cell_type": "markdown",
      "source": [
        "# Implementing the model"
      ],
      "metadata": {
        "id": "5b2rzl6F4XUo"
      }
    },
    {
      "cell_type": "code",
      "source": [
        "if __name__ == '__main__':\n",
        "\n",
        "    import matplotlib.pyplot as plt\n",
        "    import sys\n",
        "    from outpainting import *\n",
        "\n",
        "    print(\"PyTorch version: \", torch.__version__)\n",
        "    print(\"Torchvision version: \", torchvision.__version__)\n",
        "\n",
        "    src_file = '/content/WhatsApp Image 2023-09-28 at 12.01.07 AM.jpeg'#Give Source Image\n",
        "    dst_file = '/content/result/result.jpg'\n",
        "    model_pt= '/content/paths/G_art.pt'\n",
        "    gen_model = load_model(model_pt)\n",
        "    print('Source file: ' + src_file + '...')\n",
        "    input_img = plt.imread(src_file)[:, :, :3]\n",
        "    output_img, blended_img = perform_outpaint(gen_model, input_img)\n",
        "    plt.imsave(dst_file, blended_img)\n",
        "    print('Destination file: ' + dst_file + ' written')\n"
      ],
      "metadata": {
        "id": "6EvT_oNIz0eb",
        "colab": {
          "base_uri": "https://localhost:8080/"
        },
        "outputId": "12335312-346f-4fe4-bb71-46f5391429e7"
      },
      "execution_count": 12,
      "outputs": [
        {
          "output_type": "stream",
          "name": "stdout",
          "text": [
            "PyTorch version:  2.1.0+cu121\n",
            "Torchvision version:  0.16.0+cu121\n",
            "Source file: /content/WhatsApp Image 2023-09-28 at 12.01.07 AM.jpeg...\n",
            "Input size: (1459, 1600, 3)\n",
            "Output size: (192, 192, 3)\n",
            "Blended size: (2188, 2400, 3)\n",
            "Destination file: /content/result/result.jpg written\n"
          ]
        }
      ]
    },
    {
      "cell_type": "code",
      "source": [],
      "metadata": {
        "id": "NawrLLfR23qu"
      },
      "execution_count": null,
      "outputs": []
    }
  ]
}